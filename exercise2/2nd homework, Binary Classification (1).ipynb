{
 "cells": [
  {
   "cell_type": "code",
   "execution_count": 1,
   "id": "409897f9",
   "metadata": {},
   "outputs": [],
   "source": [
    "import numpy as np\n",
    "import pandas as pd\n",
    "import matplotlib.pyplot as plt\n",
    "from sklearn.datasets import load_breast_cancer"
   ]
  },
  {
   "cell_type": "code",
   "execution_count": 2,
   "id": "de9f6611",
   "metadata": {},
   "outputs": [
    {
     "name": "stdout",
     "output_type": "stream",
     "text": [
      "shape of data: (569, 30)\n"
     ]
    }
   ],
   "source": [
    "# prepare data\n",
    "data = load_breast_cancer()\n",
    "x=data.data\n",
    "y=data.target\n",
    "print(\"shape of data:\",x.shape)\n",
    "from sklearn.preprocessing import MinMaxScaler\n",
    "scaler=MinMaxScaler()\n",
    "x_new=scaler.fit_transform(x)"
   ]
  },
  {
   "cell_type": "code",
   "execution_count": 3,
   "id": "ad58d477",
   "metadata": {},
   "outputs": [],
   "source": [
    "# split data into test and training set\n",
    "from sklearn.model_selection import train_test_split\n",
    "x_train, x_test, y_train, y_test = train_test_split(x_new, y, test_size = 0.10, random_state=2021)\n",
    "x_train = x_train.T\n",
    "x_test = x_test.T\n",
    "y_train = y_train.T\n",
    "y_test = y_test.T"
   ]
  },
  {
   "cell_type": "markdown",
   "id": "78971d4c",
   "metadata": {},
   "source": [
    "**1) Logistic Regression**: \n",
    "its a classification method. Classification is a supervised learning method from machine learning, that tries to predict to which class a certain entity belongs to, based on its features.\n",
    "\n",
    "Logistic regression determines the best predicted weights 𝑏₀, 𝑏₁, …, 𝑏ᵣ such that the function 𝑝(𝐱) is as close as possible to all actual responses 𝑦ᵢ, 𝑖 = 1, …, 𝑛, where 𝑛 is the number of observations. The process of calculating the best weights using available observations is called *model training* or *fitting*."
   ]
  },
  {
   "cell_type": "code",
   "execution_count": 4,
   "id": "03406efa",
   "metadata": {},
   "outputs": [],
   "source": [
    "# weights\n",
    "def weights_bias(shape):\n",
    "    weights = np.full((shape,1),0.1)\n",
    "    bias = 1\n",
    "    return weights,bias"
   ]
  },
  {
   "cell_type": "markdown",
   "id": "19a6634f",
   "metadata": {},
   "source": [
    "The **sigmoid function** has values very close to either 0 or 1 across most of its domain. Our goal is to find the logistic regression function p(x), such that the predicted responses 𝑝(𝐱ᵢ) are as close as possible to the actual response 𝑦ᵢ (either 0 or 1) for each observation 𝑖 = 1, …, 𝑛. Therefore, it is convenient to use the sigmoid function, so each 𝑝(𝐱ᵢ) is close to either 0 or 1."
   ]
  },
  {
   "cell_type": "code",
   "execution_count": 5,
   "id": "24d85ab5",
   "metadata": {},
   "outputs": [],
   "source": [
    "# sigmoid function\n",
    "def sigmoid(z):  \n",
    "    y_predict = 1/(1+ np.exp(-z))\n",
    "    return y_predict"
   ]
  },
  {
   "cell_type": "code",
   "execution_count": 6,
   "id": "91a122c9",
   "metadata": {},
   "outputs": [],
   "source": [
    "# w...weights\n",
    "# b...bias\n",
    "\n",
    "def forward_backward(w,b,x_train,y_train):\n",
    "    '''calculates the gradient of weight and bias\n",
    "    returns a dictionary with derivatives'''\n",
    "    z = np.dot(w.T,x_train) + b\n",
    "    y_predict = sigmoid(z)\n",
    "    derivative_weight = (np.dot(x_train,((y_predict-y_train).T)))/x_train.shape[1]\n",
    "    derivative_bias = np.sum(y_predict-y_train)/x_train.shape[1]                 \n",
    "    gradients = {\"derivative_weight\": derivative_weight, \"derivative_bias\": derivative_bias}\n",
    "    return gradients"
   ]
  },
  {
   "cell_type": "markdown",
   "id": "99b028be",
   "metadata": {},
   "source": [
    "We use **GD** to find the **optimal weights** and update the parameters."
   ]
  },
  {
   "cell_type": "code",
   "execution_count": 16,
   "id": "ca97515f",
   "metadata": {},
   "outputs": [],
   "source": [
    "def update_parameters(w, b, x_train, y_train, learning_rate,iterations):\n",
    "    for i in range(iterations):\n",
    "        gradients = forward_backward(w,b,x_train,y_train)\n",
    "        w = w - learning_rate * gradients[\"derivative_weight\"]\n",
    "        b = b - learning_rate * gradients[\"derivative_bias\"]\n",
    "    parameters = {\"weight\": w,\"bias\": b}\n",
    "    return parameters, gradients"
   ]
  },
  {
   "cell_type": "code",
   "execution_count": 8,
   "id": "e305178f",
   "metadata": {},
   "outputs": [],
   "source": [
    "def predict(w,b,x_test):\n",
    "    '''Calculates the predicted weights with help of the sigmoid function'''\n",
    "    z = sigmoid(np.dot(w.T,x_test)+b)\n",
    "    y_prediction = np.zeros((1,x_test.shape[1]))\n",
    "    for i in range(z.shape[1]):\n",
    "        if z[0,i]<= 0.5:\n",
    "            y_prediction[0,i] = 0\n",
    "        else:\n",
    "            y_prediction[0,i] = 1\n",
    "    return y_prediction"
   ]
  },
  {
   "cell_type": "code",
   "execution_count": 63,
   "id": "801be45d",
   "metadata": {},
   "outputs": [],
   "source": [
    "def logistic_regression(x_train, y_train, x_test, y_test, learning_rate,  iterations):\n",
    "    shape =  x_train.shape[0]\n",
    "    w,b = weights_bias(shape)\n",
    "    parameters, gradients = update_parameters(w, b, x_train, y_train, learning_rate,iterations)\n",
    "    y_prediction_test = predict(parameters[\"weight\"],parameters[\"bias\"],x_test)\n",
    "    loss = np.mean(np.abs(y_prediction_test - y_test)) * 100\n",
    "    accuracy = 100 - np.mean(np.abs(y_prediction_test - y_test)) * 100\n",
    "    print(\"test accuracy: {}% \".format(accuracy))\n",
    "    return loss"
   ]
  },
  {
   "cell_type": "markdown",
   "id": "4180d6ab",
   "metadata": {},
   "source": [
    "**Loss function**: measures how much the prediction differs from the labels."
   ]
  },
  {
   "cell_type": "code",
   "execution_count": 64,
   "id": "47c77736",
   "metadata": {},
   "outputs": [
    {
     "name": "stdout",
     "output_type": "stream",
     "text": [
      "test accuracy: 68.42105263157895% \n",
      "test accuracy: 68.42105263157895% \n",
      "test accuracy: 68.42105263157895% \n",
      "test accuracy: 68.42105263157895% \n",
      "test accuracy: 68.42105263157895% \n",
      "test accuracy: 68.42105263157895% \n",
      "test accuracy: 68.42105263157895% \n",
      "test accuracy: 68.42105263157895% \n",
      "test accuracy: 68.42105263157895% \n",
      "test accuracy: 68.42105263157895% \n",
      "test accuracy: 68.42105263157895% \n",
      "test accuracy: 68.42105263157895% \n",
      "test accuracy: 68.42105263157895% \n",
      "test accuracy: 68.42105263157895% \n",
      "test accuracy: 68.42105263157895% \n",
      "test accuracy: 68.42105263157895% \n",
      "test accuracy: 68.42105263157895% \n",
      "test accuracy: 68.42105263157895% \n",
      "test accuracy: 68.42105263157895% \n",
      "test accuracy: 68.42105263157895% \n",
      "test accuracy: 70.17543859649123% \n",
      "test accuracy: 70.17543859649123% \n",
      "test accuracy: 70.17543859649123% \n",
      "test accuracy: 70.17543859649123% \n",
      "test accuracy: 70.17543859649123% \n",
      "test accuracy: 70.17543859649123% \n",
      "test accuracy: 70.17543859649123% \n",
      "test accuracy: 71.9298245614035% \n",
      "test accuracy: 71.9298245614035% \n",
      "test accuracy: 73.6842105263158% \n",
      "test accuracy: 77.19298245614036% \n",
      "test accuracy: 78.94736842105263% \n",
      "test accuracy: 78.94736842105263% \n",
      "test accuracy: 80.70175438596492% \n",
      "test accuracy: 82.45614035087719% \n",
      "test accuracy: 87.71929824561404% \n",
      "test accuracy: 89.47368421052632% \n",
      "test accuracy: 89.47368421052632% \n",
      "test accuracy: 89.47368421052632% \n",
      "test accuracy: 91.2280701754386% \n",
      "test accuracy: 91.2280701754386% \n",
      "test accuracy: 91.2280701754386% \n",
      "test accuracy: 91.2280701754386% \n",
      "test accuracy: 91.2280701754386% \n",
      "test accuracy: 92.98245614035088% \n",
      "test accuracy: 92.98245614035088% \n",
      "test accuracy: 92.98245614035088% \n",
      "test accuracy: 92.98245614035088% \n",
      "test accuracy: 92.98245614035088% \n",
      "test accuracy: 92.98245614035088% \n",
      "test accuracy: 92.98245614035088% \n",
      "test accuracy: 92.98245614035088% \n",
      "test accuracy: 92.98245614035088% \n",
      "test accuracy: 92.98245614035088% \n",
      "test accuracy: 92.98245614035088% \n",
      "test accuracy: 92.98245614035088% \n",
      "test accuracy: 92.98245614035088% \n",
      "test accuracy: 92.98245614035088% \n",
      "test accuracy: 92.98245614035088% \n",
      "test accuracy: 92.98245614035088% \n",
      "test accuracy: 94.73684210526316% \n",
      "test accuracy: 94.73684210526316% \n",
      "test accuracy: 94.73684210526316% \n",
      "test accuracy: 94.73684210526316% \n",
      "test accuracy: 94.73684210526316% \n",
      "test accuracy: 94.73684210526316% \n",
      "test accuracy: 94.73684210526316% \n",
      "test accuracy: 94.73684210526316% \n",
      "test accuracy: 94.73684210526316% \n",
      "test accuracy: 94.73684210526316% \n",
      "test accuracy: 94.73684210526316% \n",
      "test accuracy: 94.73684210526316% \n",
      "test accuracy: 94.73684210526316% \n",
      "test accuracy: 94.73684210526316% \n",
      "test accuracy: 94.73684210526316% \n",
      "test accuracy: 94.73684210526316% \n",
      "test accuracy: 94.73684210526316% \n",
      "test accuracy: 94.73684210526316% \n",
      "test accuracy: 94.73684210526316% \n",
      "test accuracy: 94.73684210526316% \n",
      "test accuracy: 94.73684210526316% \n",
      "test accuracy: 94.73684210526316% \n",
      "test accuracy: 94.73684210526316% \n",
      "test accuracy: 94.73684210526316% \n",
      "test accuracy: 94.73684210526316% \n",
      "test accuracy: 94.73684210526316% \n",
      "test accuracy: 94.73684210526316% \n",
      "test accuracy: 94.73684210526316% \n",
      "test accuracy: 94.73684210526316% \n",
      "test accuracy: 94.73684210526316% \n",
      "test accuracy: 94.73684210526316% \n",
      "test accuracy: 94.73684210526316% \n",
      "test accuracy: 94.73684210526316% \n",
      "test accuracy: 94.73684210526316% \n",
      "test accuracy: 94.73684210526316% \n",
      "test accuracy: 94.73684210526316% \n",
      "test accuracy: 94.73684210526316% \n",
      "test accuracy: 94.73684210526316% \n",
      "test accuracy: 94.73684210526316% \n",
      "test accuracy: 94.73684210526316% \n",
      "test accuracy: 94.73684210526316% \n",
      "test accuracy: 94.73684210526316% \n",
      "test accuracy: 94.73684210526316% \n",
      "test accuracy: 94.73684210526316% \n",
      "test accuracy: 94.73684210526316% \n",
      "test accuracy: 94.73684210526316% \n",
      "test accuracy: 94.73684210526316% \n",
      "test accuracy: 94.73684210526316% \n",
      "test accuracy: 94.73684210526316% \n",
      "test accuracy: 94.73684210526316% \n",
      "test accuracy: 94.73684210526316% \n",
      "test accuracy: 94.73684210526316% \n",
      "test accuracy: 94.73684210526316% \n",
      "test accuracy: 94.73684210526316% \n",
      "test accuracy: 94.73684210526316% \n",
      "test accuracy: 94.73684210526316% \n",
      "test accuracy: 94.73684210526316% \n",
      "test accuracy: 94.73684210526316% \n",
      "test accuracy: 94.73684210526316% \n",
      "test accuracy: 94.73684210526316% \n",
      "test accuracy: 94.73684210526316% \n",
      "test accuracy: 94.73684210526316% \n",
      "test accuracy: 94.73684210526316% \n",
      "test accuracy: 94.73684210526316% \n",
      "test accuracy: 94.73684210526316% \n",
      "test accuracy: 94.73684210526316% \n",
      "test accuracy: 94.73684210526316% \n",
      "test accuracy: 94.73684210526316% \n",
      "test accuracy: 94.73684210526316% \n",
      "test accuracy: 94.73684210526316% \n",
      "test accuracy: 94.73684210526316% \n",
      "test accuracy: 94.73684210526316% \n",
      "test accuracy: 94.73684210526316% \n",
      "test accuracy: 94.73684210526316% \n",
      "test accuracy: 94.73684210526316% \n",
      "test accuracy: 94.73684210526316% \n",
      "test accuracy: 94.73684210526316% \n",
      "test accuracy: 94.73684210526316% \n",
      "test accuracy: 94.73684210526316% \n",
      "test accuracy: 94.73684210526316% \n",
      "test accuracy: 94.73684210526316% \n",
      "test accuracy: 94.73684210526316% \n",
      "test accuracy: 94.73684210526316% \n",
      "test accuracy: 94.73684210526316% \n",
      "test accuracy: 94.73684210526316% \n",
      "test accuracy: 94.73684210526316% \n",
      "test accuracy: 94.73684210526316% \n",
      "test accuracy: 94.73684210526316% \n",
      "test accuracy: 94.73684210526316% \n",
      "[31.57894736842105, 31.57894736842105, 31.57894736842105, 31.57894736842105, 31.57894736842105, 31.57894736842105, 31.57894736842105, 31.57894736842105, 31.57894736842105, 31.57894736842105, 31.57894736842105, 31.57894736842105, 31.57894736842105, 31.57894736842105, 31.57894736842105, 31.57894736842105, 31.57894736842105, 31.57894736842105, 31.57894736842105, 31.57894736842105, 29.82456140350877, 29.82456140350877, 29.82456140350877, 29.82456140350877, 29.82456140350877, 29.82456140350877, 29.82456140350877, 28.07017543859649, 28.07017543859649, 26.31578947368421, 22.807017543859647, 21.052631578947366, 21.052631578947366, 19.298245614035086, 17.543859649122805, 12.280701754385964, 10.526315789473683, 10.526315789473683, 10.526315789473683, 8.771929824561402, 8.771929824561402, 8.771929824561402, 8.771929824561402, 8.771929824561402, 7.017543859649122, 7.017543859649122, 7.017543859649122, 7.017543859649122, 7.017543859649122, 7.017543859649122, 7.017543859649122, 7.017543859649122, 7.017543859649122, 7.017543859649122, 7.017543859649122, 7.017543859649122, 7.017543859649122, 7.017543859649122, 7.017543859649122, 7.017543859649122, 5.263157894736842, 5.263157894736842, 5.263157894736842, 5.263157894736842, 5.263157894736842, 5.263157894736842, 5.263157894736842, 5.263157894736842, 5.263157894736842, 5.263157894736842, 5.263157894736842, 5.263157894736842, 5.263157894736842, 5.263157894736842, 5.263157894736842, 5.263157894736842, 5.263157894736842, 5.263157894736842, 5.263157894736842, 5.263157894736842, 5.263157894736842, 5.263157894736842, 5.263157894736842, 5.263157894736842, 5.263157894736842, 5.263157894736842, 5.263157894736842, 5.263157894736842, 5.263157894736842, 5.263157894736842, 5.263157894736842, 5.263157894736842, 5.263157894736842, 5.263157894736842, 5.263157894736842, 5.263157894736842, 5.263157894736842, 5.263157894736842, 5.263157894736842, 5.263157894736842, 5.263157894736842, 5.263157894736842, 5.263157894736842, 5.263157894736842, 5.263157894736842, 5.263157894736842, 5.263157894736842, 5.263157894736842, 5.263157894736842, 5.263157894736842, 5.263157894736842, 5.263157894736842, 5.263157894736842, 5.263157894736842, 5.263157894736842, 5.263157894736842, 5.263157894736842, 5.263157894736842, 5.263157894736842, 5.263157894736842, 5.263157894736842, 5.263157894736842, 5.263157894736842, 5.263157894736842, 5.263157894736842, 5.263157894736842, 5.263157894736842, 5.263157894736842, 5.263157894736842, 5.263157894736842, 5.263157894736842, 5.263157894736842, 5.263157894736842, 5.263157894736842, 5.263157894736842, 5.263157894736842, 5.263157894736842, 5.263157894736842, 5.263157894736842, 5.263157894736842, 5.263157894736842, 5.263157894736842, 5.263157894736842, 5.263157894736842, 5.263157894736842, 5.263157894736842, 5.263157894736842, 5.263157894736842, 5.263157894736842]\n"
     ]
    }
   ],
   "source": [
    "loss_values=[]\n",
    "for i in range(1,150):\n",
    "    val = [logistic_regression(x_train, y_train, x_test, y_test,learning_rate = 0.1, iterations = i)]\n",
    "    loss_values+= val\n",
    "\n",
    "    i+=1\n",
    "print(loss_values)"
   ]
  },
  {
   "cell_type": "code",
   "execution_count": 69,
   "id": "fe2ecb35",
   "metadata": {},
   "outputs": [
    {
     "data": {
      "image/png": "[encoded data removed]",
      "text/plain": [
       "<Figure size 432x288 with 1 Axes>"
      ]
     },
     "metadata": {
      "needs_background": "light"
     },
     "output_type": "display_data"
    }
   ],
   "source": [
    "from matplotlib import pyplot as plt\n",
    "plt.plot(loss_values)\n",
    "plt.title('loss vs. no. of epochs')\n",
    "plt.xlabel('epochs')\n",
    "plt.ylabel('loss %')\n",
    "plt.show()"
   ]
  },
  {
   "cell_type": "markdown",
   "id": "e1e1f395",
   "metadata": {},
   "source": [
    "**2) **"
   ]
  },
  {
   "cell_type": "code",
   "execution_count": null,
   "id": "5ea231e8",
   "metadata": {},
   "outputs": [],
   "source": []
  }
 ],
 "metadata": {
  "kernelspec": {
   "display_name": "Python 3 (ipykernel)",
   "language": "python",
   "name": "python3"
  },
  "language_info": {
   "codemirror_mode": {
    "name": "ipython",
    "version": 3
   },
   "file_extension": ".py",
   "mimetype": "text/x-python",
   "name": "python",
   "nbconvert_exporter": "python",
   "pygments_lexer": "ipython3",
   "version": "3.9.7"
  }
 },
 "nbformat": 4,
 "nbformat_minor": 5
}
